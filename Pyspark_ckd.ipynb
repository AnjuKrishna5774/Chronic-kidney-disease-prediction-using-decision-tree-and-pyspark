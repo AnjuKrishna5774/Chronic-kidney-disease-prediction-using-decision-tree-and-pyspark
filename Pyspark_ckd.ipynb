{
 "cells": [
  {
   "cell_type": "markdown",
   "metadata": {},
   "source": [
    "# CHRONIC KIDNEY DISEASE PREDICTION USING DECISION TREE "
   ]
  },
  {
   "cell_type": "markdown",
   "metadata": {},
   "source": [
    "# IMPORTING LIBRARIES"
   ]
  },
  {
   "cell_type": "code",
   "execution_count": 2,
   "metadata": {
    "id": "lsLphBvpHbeo"
   },
   "outputs": [],
   "source": [
    "#import SparkSeccion pyspark.sql\n",
    "from pyspark.sql import SparkSession,Row\n",
    "from pyspark.sql.functions import count,corr,col,sum\n",
    "\n",
    "#import other libraries\n",
    "import pandas as pd\n",
    "import numpy as np\n",
    "\n",
    "from pyspark.ml import Pipeline\n",
    "from pyspark.ml.feature import StringIndexer, VectorAssembler, OneHotEncoder \n",
    "from pyspark.ml.evaluation import MulticlassClassificationEvaluator\n",
    "from pyspark.ml.tuning import CrossValidator, ParamGridBuilder\n",
    "\n",
    "from pyspark.ml.classification import DecisionTreeClassifier\n",
    "\n"
   ]
  },
  {
   "cell_type": "code",
   "execution_count": 3,
   "metadata": {
    "id": "cTHFuIPqHfMl"
   },
   "outputs": [],
   "source": [
    "#Create spark session\n",
    "spark = SparkSession.builder.appName('decisiontree').getOrCreate()"
   ]
  },
  {
   "cell_type": "code",
   "execution_count": 4,
   "metadata": {
    "colab": {
     "base_uri": "https://localhost:8080/"
    },
    "id": "g8pRVH4jLMgN",
    "outputId": "b2a9922b-90d6-4b2c-cefa-24b17fb345bc"
   },
   "outputs": [
    {
     "name": "stdout",
     "output_type": "stream",
     "text": [
      "+---+----+----+-----+---+---+------+--------+----------+----------+-----+----+---+-----+----+----+---+----+----+---+---+---+-----+---+---+--------------+\n",
      "| id| age|  bp|   sg| al| su|   rbc|      pc|       pcc|        ba|  bgr|  bu| sc|  sod| pot|hemo|pcv|  wc|  rc|htn| dm|cad|appet| pe|ane|classification|\n",
      "+---+----+----+-----+---+---+------+--------+----------+----------+-----+----+---+-----+----+----+---+----+----+---+---+---+-----+---+---+--------------+\n",
      "|  0|48.0|80.0| 1.02|1.0|0.0|  NULL|  normal|notpresent|notpresent|121.0|36.0|1.2| NULL|NULL|15.4| 44|7800| 5.2|yes|yes| no| good| no| no|           ckd|\n",
      "|  1| 7.0|50.0| 1.02|4.0|0.0|  NULL|  normal|notpresent|notpresent| NULL|18.0|0.8| NULL|NULL|11.3| 38|6000|NULL| no| no| no| good| no| no|           ckd|\n",
      "|  2|62.0|80.0| 1.01|2.0|3.0|normal|  normal|notpresent|notpresent|423.0|53.0|1.8| NULL|NULL| 9.6| 31|7500|NULL| no|yes| no| poor| no|yes|           ckd|\n",
      "|  3|48.0|70.0|1.005|4.0|0.0|normal|abnormal|   present|notpresent|117.0|56.0|3.8|111.0| 2.5|11.2| 32|6700| 3.9|yes| no| no| poor|yes|yes|           ckd|\n",
      "|  4|51.0|80.0| 1.01|2.0|0.0|normal|  normal|notpresent|notpresent|106.0|26.0|1.4| NULL|NULL|11.6| 35|7300| 4.6| no| no| no| good| no| no|           ckd|\n",
      "+---+----+----+-----+---+---+------+--------+----------+----------+-----+----+---+-----+----+----+---+----+----+---+---+---+-----+---+---+--------------+\n",
      "only showing top 5 rows\n",
      "\n"
     ]
    }
   ],
   "source": [
    "#read the dataset and don't have specific header row\n",
    "\n",
    "dataset = spark.read.option(\"header\", \"false\").csv(\"kidney_disease.csv\")\n",
    "\n",
    "# Collect the first row to use as the header\n",
    "header = dataset.first()\n",
    "\n",
    "# Filter out the first row from the data\n",
    "dataset = dataset.filter(dataset[0] != header[0])\n",
    "\n",
    "# Here the dataset is converted to dataframe making the specific column as header since the datset\n",
    "# is having columns names as a row\n",
    "dataset = dataset.toDF(*header)\n",
    "\n",
    "# Show the DataFrame\n",
    "dataset.show(5)"
   ]
  },
  {
   "cell_type": "code",
   "execution_count": 5,
   "metadata": {
    "colab": {
     "base_uri": "https://localhost:8080/",
     "height": 187
    },
    "id": "el_3TsGzr932",
    "outputId": "5b3fdd7f-5550-4c33-cc5a-c0f1a7e35047"
   },
   "outputs": [
    {
     "data": {
      "text/plain": [
       "pyspark.sql.dataframe.DataFrame"
      ]
     },
     "execution_count": 5,
     "metadata": {},
     "output_type": "execute_result"
    }
   ],
   "source": [
    "type(dataset)"
   ]
  },
  {
   "cell_type": "markdown",
   "metadata": {},
   "source": [
    "# EXPLORATORY DATA ANALYSIS"
   ]
  },
  {
   "cell_type": "code",
   "execution_count": 6,
   "metadata": {
    "colab": {
     "base_uri": "https://localhost:8080/"
    },
    "id": "6ztC0VgDM2ak",
    "outputId": "97dc3def-07e7-4ab7-836b-c460be4a709c"
   },
   "outputs": [
    {
     "name": "stdout",
     "output_type": "stream",
     "text": [
      "root\n",
      " |-- id: string (nullable = true)\n",
      " |-- age: string (nullable = true)\n",
      " |-- bp: string (nullable = true)\n",
      " |-- sg: string (nullable = true)\n",
      " |-- al: string (nullable = true)\n",
      " |-- su: string (nullable = true)\n",
      " |-- rbc: string (nullable = true)\n",
      " |-- pc: string (nullable = true)\n",
      " |-- pcc: string (nullable = true)\n",
      " |-- ba: string (nullable = true)\n",
      " |-- bgr: string (nullable = true)\n",
      " |-- bu: string (nullable = true)\n",
      " |-- sc: string (nullable = true)\n",
      " |-- sod: string (nullable = true)\n",
      " |-- pot: string (nullable = true)\n",
      " |-- hemo: string (nullable = true)\n",
      " |-- pcv: string (nullable = true)\n",
      " |-- wc: string (nullable = true)\n",
      " |-- rc: string (nullable = true)\n",
      " |-- htn: string (nullable = true)\n",
      " |-- dm: string (nullable = true)\n",
      " |-- cad: string (nullable = true)\n",
      " |-- appet: string (nullable = true)\n",
      " |-- pe: string (nullable = true)\n",
      " |-- ane: string (nullable = true)\n",
      " |-- classification: string (nullable = true)\n",
      "\n"
     ]
    }
   ],
   "source": [
    "#printing the dataframe describtion\n",
    "dataset.printSchema()"
   ]
  },
  {
   "cell_type": "code",
   "execution_count": 7,
   "metadata": {
    "colab": {
     "base_uri": "https://localhost:8080/"
    },
    "id": "tx53maB3NRw-",
    "outputId": "28ebb79d-a68d-4ed7-8e55-b9bc80bab30a"
   },
   "outputs": [
    {
     "name": "stdout",
     "output_type": "stream",
     "text": [
      "+---+----+-------------+---------------+-------+-----+-------------+--------+-------------+----------+------------------+---------+---------------+------+---------+----------+----------------+-------------------+-----------------+------------+----------------+---------------------+--------+----------+------+--------------+\n",
      "| id| Age|BloodPressure|SpecificGravity|Albumin|Sugar|RedBloodCells| PusCell|PusCellClumps|  Bacteria|BloodGlucoseRandom|BloodUrea|SerumCreatinine|Sodium|Potassium|Hemoglobin|PackedCellVolume|WhiteBloodCellCount|RedBloodCellCount|Hypertension|DiabetesMellitus|CoronaryArteryDisease|Appetite|PedalEdema|Anemia|Classification|\n",
      "+---+----+-------------+---------------+-------+-----+-------------+--------+-------------+----------+------------------+---------+---------------+------+---------+----------+----------------+-------------------+-----------------+------------+----------------+---------------------+--------+----------+------+--------------+\n",
      "|  0|48.0|         80.0|           1.02|    1.0|  0.0|         NULL|  normal|   notpresent|notpresent|             121.0|     36.0|            1.2|  NULL|     NULL|      15.4|              44|               7800|              5.2|         yes|             yes|                   no|    good|        no|    no|           ckd|\n",
      "|  1| 7.0|         50.0|           1.02|    4.0|  0.0|         NULL|  normal|   notpresent|notpresent|              NULL|     18.0|            0.8|  NULL|     NULL|      11.3|              38|               6000|             NULL|          no|              no|                   no|    good|        no|    no|           ckd|\n",
      "|  2|62.0|         80.0|           1.01|    2.0|  3.0|       normal|  normal|   notpresent|notpresent|             423.0|     53.0|            1.8|  NULL|     NULL|       9.6|              31|               7500|             NULL|          no|             yes|                   no|    poor|        no|   yes|           ckd|\n",
      "|  3|48.0|         70.0|          1.005|    4.0|  0.0|       normal|abnormal|      present|notpresent|             117.0|     56.0|            3.8| 111.0|      2.5|      11.2|              32|               6700|              3.9|         yes|              no|                   no|    poor|       yes|   yes|           ckd|\n",
      "|  4|51.0|         80.0|           1.01|    2.0|  0.0|       normal|  normal|   notpresent|notpresent|             106.0|     26.0|            1.4|  NULL|     NULL|      11.6|              35|               7300|              4.6|          no|              no|                   no|    good|        no|    no|           ckd|\n",
      "+---+----+-------------+---------------+-------+-----+-------------+--------+-------------+----------+------------------+---------+---------------+------+---------+----------+----------------+-------------------+-----------------+------------+----------------+---------------------+--------+----------+------+--------------+\n",
      "only showing top 5 rows\n",
      "\n"
     ]
    }
   ],
   "source": [
    "#renaming the Columns to Exact terms\n",
    "dataset = dataset.withColumnRenamed(\"age\", \"Age\") \\\n",
    "       .withColumnRenamed(\"bp\", \"BloodPressure\") \\\n",
    "       .withColumnRenamed(\"sg\", \"SpecificGravity\") \\\n",
    "       .withColumnRenamed(\"al\", \"Albumin\") \\\n",
    "       .withColumnRenamed(\"su\", \"Sugar\") \\\n",
    "       .withColumnRenamed(\"rbc\", \"RedBloodCells\") \\\n",
    "       .withColumnRenamed(\"pc\", \"PusCell\") \\\n",
    "       .withColumnRenamed(\"pcc\", \"PusCellClumps\") \\\n",
    "       .withColumnRenamed(\"ba\", \"Bacteria\") \\\n",
    "       .withColumnRenamed(\"bgr\", \"BloodGlucoseRandom\") \\\n",
    "       .withColumnRenamed(\"bu\", \"BloodUrea\") \\\n",
    "       .withColumnRenamed(\"sc\", \"SerumCreatinine\") \\\n",
    "       .withColumnRenamed(\"sod\", \"Sodium\") \\\n",
    "       .withColumnRenamed(\"pot\", \"Potassium\") \\\n",
    "       .withColumnRenamed(\"hemo\", \"Hemoglobin\") \\\n",
    "       .withColumnRenamed(\"pcv\", \"PackedCellVolume\") \\\n",
    "       .withColumnRenamed(\"wc\", \"WhiteBloodCellCount\") \\\n",
    "       .withColumnRenamed(\"rc\", \"RedBloodCellCount\") \\\n",
    "       .withColumnRenamed(\"htn\", \"Hypertension\") \\\n",
    "       .withColumnRenamed(\"dm\", \"DiabetesMellitus\") \\\n",
    "       .withColumnRenamed(\"cad\", \"CoronaryArteryDisease\") \\\n",
    "       .withColumnRenamed(\"appet\", \"Appetite\") \\\n",
    "       .withColumnRenamed(\"pe\", \"PedalEdema\") \\\n",
    "       .withColumnRenamed(\"ane\", \"Anemia\") \\\n",
    "       .withColumnRenamed(\"classification\", \"Classification\")\n",
    "\n",
    "# Show the DataFrame\n",
    "dataset.show(5)"
   ]
  },
  {
   "cell_type": "code",
   "execution_count": 8,
   "metadata": {
    "colab": {
     "base_uri": "https://localhost:8080/"
    },
    "id": "GSjleMonNZZo",
    "outputId": "5ff3af29-d418-4af6-ebff-6173ddfa6cac"
   },
   "outputs": [
    {
     "name": "stdout",
     "output_type": "stream",
     "text": [
      "Number of rows: \t 400\n",
      "Number of columns: \t 26\n"
     ]
    }
   ],
   "source": [
    "#Printing total number of rows and columns in the dataset\n",
    "print('Number of rows: \\t', dataset.count())\n",
    "print('Number of columns: \\t', len(dataset.columns))"
   ]
  },
  {
   "cell_type": "markdown",
   "metadata": {
    "id": "XkI-IlhXNfG-"
   },
   "source": []
  },
  {
   "cell_type": "code",
   "execution_count": 9,
   "metadata": {
    "colab": {
     "base_uri": "https://localhost:8080/"
    },
    "id": "ay-RftJHS10n",
    "outputId": "4cfc316e-5ef7-4648-efd4-3917ac6720f0"
   },
   "outputs": [
    {
     "name": "stdout",
     "output_type": "stream",
     "text": [
      "+--------------+-----+\n",
      "|classification|count|\n",
      "+--------------+-----+\n",
      "|        notckd|  150|\n",
      "|           ckd|  248|\n",
      "|         ckd\\t|    2|\n",
      "+--------------+-----+\n",
      "\n"
     ]
    }
   ],
   "source": [
    "#How many people have kidney disease\n",
    "dataset.groupBy('classification').count().show()"
   ]
  },
  {
   "cell_type": "code",
   "execution_count": 10,
   "metadata": {
    "id": "yyuIUGhH7OE5"
   },
   "outputs": [],
   "source": [
    "from pyspark.sql.functions import when\n",
    "\n",
    "# Replace 'ckd\\t' with 'ckd' and create a new DataFrame\n",
    "dataset = dataset.withColumn(\n",
    "    'Classification',\n",
    "    when(dataset['Classification'] == 'ckd\\t', 'ckd').otherwise(dataset['Classification'])\n",
    ")"
   ]
  },
  {
   "cell_type": "code",
   "execution_count": 11,
   "metadata": {
    "colab": {
     "base_uri": "https://localhost:8080/"
    },
    "id": "_dB1CCf38rZP",
    "outputId": "dc156a70-a164-4aea-87c6-2f0d85a5d434"
   },
   "outputs": [
    {
     "name": "stdout",
     "output_type": "stream",
     "text": [
      "+--------------+-----+\n",
      "|classification|count|\n",
      "+--------------+-----+\n",
      "|        notckd|  150|\n",
      "|           ckd|  250|\n",
      "+--------------+-----+\n",
      "\n"
     ]
    }
   ],
   "source": [
    "#How many people have kidney disease\n",
    "dataset.groupBy('classification').count().show()"
   ]
  },
  {
   "cell_type": "code",
   "execution_count": 12,
   "metadata": {
    "colab": {
     "base_uri": "https://localhost:8080/"
    },
    "id": "AkkdS7CTTuNO",
    "outputId": "0ab9f4de-8e80-449c-b1ff-9770354581fe"
   },
   "outputs": [
    {
     "name": "stdout",
     "output_type": "stream",
     "text": [
      "'id': 0\n",
      "'Age': 9\n",
      "'BloodPressure': 12\n",
      "'SpecificGravity': 47\n",
      "'Albumin': 46\n",
      "'Sugar': 49\n",
      "'RedBloodCells': 152\n",
      "'PusCell': 65\n",
      "'PusCellClumps': 4\n",
      "'Bacteria': 4\n",
      "'BloodGlucoseRandom': 44\n",
      "'BloodUrea': 19\n",
      "'SerumCreatinine': 17\n",
      "'Sodium': 87\n",
      "'Potassium': 88\n",
      "'Hemoglobin': 52\n",
      "'PackedCellVolume': 70\n",
      "'WhiteBloodCellCount': 105\n",
      "'RedBloodCellCount': 130\n",
      "'Hypertension': 2\n",
      "'DiabetesMellitus': 2\n",
      "'CoronaryArteryDisease': 2\n",
      "'Appetite': 1\n",
      "'PedalEdema': 1\n",
      "'Anemia': 1\n",
      "'Classification': 0\n"
     ]
    }
   ],
   "source": [
    "#checking the Number of NULL values for Each Column\n",
    "for column in dataset.columns:\n",
    "    count = dataset.filter(col(column).isNull()).count()\n",
    "    print(f\"'{column}': {count}\")\n"
   ]
  },
  {
   "cell_type": "code",
   "execution_count": 13,
   "metadata": {
    "colab": {
     "base_uri": "https://localhost:8080/"
    },
    "id": "jUejO_v77jek",
    "outputId": "d1a514f9-d7c8-42c4-999f-c4d0927bc161"
   },
   "outputs": [
    {
     "name": "stdout",
     "output_type": "stream",
     "text": [
      "+---+----+-------------+---------------+-------+-----+-------------+--------+-------------+----------+------------------+---------+---------------+------+---------+----------+----------------+-------------------+-----------------+------------+----------------+---------------------+--------+----------+------+--------------+\n",
      "| id| Age|BloodPressure|SpecificGravity|Albumin|Sugar|RedBloodCells| PusCell|PusCellClumps|  Bacteria|BloodGlucoseRandom|BloodUrea|SerumCreatinine|Sodium|Potassium|Hemoglobin|PackedCellVolume|WhiteBloodCellCount|RedBloodCellCount|Hypertension|DiabetesMellitus|CoronaryArteryDisease|Appetite|PedalEdema|Anemia|Classification|\n",
      "+---+----+-------------+---------------+-------+-----+-------------+--------+-------------+----------+------------------+---------+---------------+------+---------+----------+----------------+-------------------+-----------------+------------+----------------+---------------------+--------+----------+------+--------------+\n",
      "|  0|48.0|         80.0|           1.02|    1.0|  0.0|         NULL|  normal|   notpresent|notpresent|             121.0|     36.0|            1.2|  NULL|     NULL|      15.4|              44|               7800|              5.2|         yes|             yes|                   no|    good|        no|    no|           ckd|\n",
      "|  1| 7.0|         50.0|           1.02|    4.0|  0.0|         NULL|  normal|   notpresent|notpresent|              NULL|     18.0|            0.8|  NULL|     NULL|      11.3|              38|               6000|             NULL|          no|              no|                   no|    good|        no|    no|           ckd|\n",
      "|  2|62.0|         80.0|           1.01|    2.0|  3.0|       normal|  normal|   notpresent|notpresent|             423.0|     53.0|            1.8|  NULL|     NULL|       9.6|              31|               7500|             NULL|          no|             yes|                   no|    poor|        no|   yes|           ckd|\n",
      "|  3|48.0|         70.0|          1.005|    4.0|  0.0|       normal|abnormal|      present|notpresent|             117.0|     56.0|            3.8| 111.0|      2.5|      11.2|              32|               6700|              3.9|         yes|              no|                   no|    poor|       yes|   yes|           ckd|\n",
      "|  4|51.0|         80.0|           1.01|    2.0|  0.0|       normal|  normal|   notpresent|notpresent|             106.0|     26.0|            1.4|  NULL|     NULL|      11.6|              35|               7300|              4.6|          no|              no|                   no|    good|        no|    no|           ckd|\n",
      "|  5|60.0|         90.0|          1.015|    3.0|  0.0|         NULL|    NULL|   notpresent|notpresent|              74.0|     25.0|            1.1| 142.0|      3.2|      12.2|              39|               7800|              4.4|         yes|             yes|                   no|    good|       yes|    no|           ckd|\n",
      "|  6|68.0|         70.0|           1.01|    0.0|  0.0|         NULL|  normal|   notpresent|notpresent|             100.0|     54.0|           24.0| 104.0|      4.0|      12.4|              36|               NULL|             NULL|          no|              no|                   no|    good|        no|    no|           ckd|\n",
      "|  7|24.0|         NULL|          1.015|    2.0|  4.0|       normal|abnormal|   notpresent|notpresent|             410.0|     31.0|            1.1|  NULL|     NULL|      12.4|              44|               6900|                5|          no|             yes|                   no|    good|       yes|    no|           ckd|\n",
      "|  8|52.0|        100.0|          1.015|    3.0|  0.0|       normal|abnormal|      present|notpresent|             138.0|     60.0|            1.9|  NULL|     NULL|      10.8|              33|               9600|              4.0|         yes|             yes|                   no|    good|        no|   yes|           ckd|\n",
      "|  9|53.0|         90.0|           1.02|    2.0|  0.0|     abnormal|abnormal|      present|notpresent|              70.0|    107.0|            7.2| 114.0|      3.7|       9.5|              29|              12100|              3.7|         yes|             yes|                   no|    poor|        no|   yes|           ckd|\n",
      "| 10|50.0|         60.0|           1.01|    2.0|  4.0|         NULL|abnormal|      present|notpresent|             490.0|     55.0|            4.0|  NULL|     NULL|       9.4|              28|               NULL|             NULL|         yes|             yes|                   no|    good|        no|   yes|           ckd|\n",
      "| 11|63.0|         70.0|           1.01|    3.0|  0.0|     abnormal|abnormal|      present|notpresent|             380.0|     60.0|            2.7| 131.0|      4.2|      10.8|              32|               4500|              3.8|         yes|             yes|                   no|    poor|       yes|    no|           ckd|\n",
      "| 12|68.0|         70.0|          1.015|    3.0|  1.0|         NULL|  normal|      present|notpresent|             208.0|     72.0|            2.1| 138.0|      5.8|       9.7|              28|              12200|              3.4|         yes|             yes|                  yes|    poor|       yes|    no|           ckd|\n",
      "| 13|68.0|         70.0|           NULL|   NULL| NULL|         NULL|    NULL|   notpresent|notpresent|              98.0|     86.0|            4.6| 135.0|      3.4|       9.8|            NULL|               NULL|             NULL|         yes|             yes|                  yes|    poor|       yes|    no|           ckd|\n",
      "| 14|68.0|         80.0|           1.01|    3.0|  2.0|       normal|abnormal|      present|   present|             157.0|     90.0|            4.1| 130.0|      6.4|       5.6|              16|              11000|              2.6|         yes|             yes|                  yes|    poor|       yes|    no|           ckd|\n",
      "| 15|40.0|         80.0|          1.015|    3.0|  0.0|         NULL|  normal|   notpresent|notpresent|              76.0|    162.0|            9.6| 141.0|      4.9|       7.6|              24|               3800|              2.8|         yes|              no|                   no|    good|        no|   yes|           ckd|\n",
      "| 16|47.0|         70.0|          1.015|    2.0|  0.0|         NULL|  normal|   notpresent|notpresent|              99.0|     46.0|            2.2| 138.0|      4.1|      12.6|            NULL|               NULL|             NULL|          no|              no|                   no|    good|        no|    no|           ckd|\n",
      "| 17|47.0|         80.0|           NULL|   NULL| NULL|         NULL|    NULL|   notpresent|notpresent|             114.0|     87.0|            5.2| 139.0|      3.7|      12.1|            NULL|               NULL|             NULL|         yes|              no|                   no|    poor|        no|    no|           ckd|\n",
      "| 18|60.0|        100.0|          1.025|    0.0|  3.0|         NULL|  normal|   notpresent|notpresent|             263.0|     27.0|            1.3| 135.0|      4.3|      12.7|              37|              11400|              4.3|         yes|             yes|                  yes|    good|        no|    no|           ckd|\n",
      "| 19|62.0|         60.0|          1.015|    1.0|  0.0|         NULL|abnormal|      present|notpresent|             100.0|     31.0|            1.6|  NULL|     NULL|      10.3|              30|               5300|              3.7|         yes|              no|                  yes|    good|        no|    no|           ckd|\n",
      "+---+----+-------------+---------------+-------+-----+-------------+--------+-------------+----------+------------------+---------+---------------+------+---------+----------+----------------+-------------------+-----------------+------------+----------------+---------------------+--------+----------+------+--------------+\n",
      "only showing top 20 rows\n",
      "\n"
     ]
    }
   ],
   "source": [
    "dataset.show()"
   ]
  },
  {
   "cell_type": "markdown",
   "metadata": {
    "id": "HyH9LN6aDrOI"
   },
   "source": [
    "# FEATURE ENGINEERING"
   ]
  },
  {
   "cell_type": "code",
   "execution_count": 14,
   "metadata": {
    "id": "xektXFHaDf3-"
   },
   "outputs": [],
   "source": [
    "#converting the string columns with numerical values to float data type\n",
    "from pyspark.sql.types import FloatType\n",
    "\n",
    "cols = ['Albumin','BloodPressure','Sugar','Age',\n",
    "        'SpecificGravity','BloodGlucoseRandom','BloodUrea','SerumCreatinine','Sodium','Potassium',\n",
    "        'Hemoglobin','PackedCellVolume','WhiteBloodCellCount','RedBloodCellCount']\n",
    "for col_name in cols:\n",
    "    dataset = dataset.withColumn(col_name, col(col_name).cast(FloatType()))"
   ]
  },
  {
   "cell_type": "code",
   "execution_count": 15,
   "metadata": {
    "colab": {
     "base_uri": "https://localhost:8080/"
    },
    "id": "OVJBa1i2EGcx",
    "outputId": "ef9d6753-bca8-46f0-d99c-6d1cb62d9c25"
   },
   "outputs": [
    {
     "name": "stdout",
     "output_type": "stream",
     "text": [
      "root\n",
      " |-- id: string (nullable = true)\n",
      " |-- Age: float (nullable = true)\n",
      " |-- BloodPressure: float (nullable = true)\n",
      " |-- SpecificGravity: float (nullable = true)\n",
      " |-- Albumin: float (nullable = true)\n",
      " |-- Sugar: float (nullable = true)\n",
      " |-- RedBloodCells: string (nullable = true)\n",
      " |-- PusCell: string (nullable = true)\n",
      " |-- PusCellClumps: string (nullable = true)\n",
      " |-- Bacteria: string (nullable = true)\n",
      " |-- BloodGlucoseRandom: float (nullable = true)\n",
      " |-- BloodUrea: float (nullable = true)\n",
      " |-- SerumCreatinine: float (nullable = true)\n",
      " |-- Sodium: float (nullable = true)\n",
      " |-- Potassium: float (nullable = true)\n",
      " |-- Hemoglobin: float (nullable = true)\n",
      " |-- PackedCellVolume: float (nullable = true)\n",
      " |-- WhiteBloodCellCount: float (nullable = true)\n",
      " |-- RedBloodCellCount: float (nullable = true)\n",
      " |-- Hypertension: string (nullable = true)\n",
      " |-- DiabetesMellitus: string (nullable = true)\n",
      " |-- CoronaryArteryDisease: string (nullable = true)\n",
      " |-- Appetite: string (nullable = true)\n",
      " |-- PedalEdema: string (nullable = true)\n",
      " |-- Anemia: string (nullable = true)\n",
      " |-- Classification: string (nullable = true)\n",
      "\n"
     ]
    }
   ],
   "source": [
    "dataset.printSchema()"
   ]
  },
  {
   "cell_type": "code",
   "execution_count": 16,
   "metadata": {
    "id": "mkxRtmjtAkU1"
   },
   "outputs": [],
   "source": [
    "#using the imputer feature in pyspark, the NULL values are replace by imputed value(BY DEFAULT ITS MEAN)\n",
    "from pyspark.ml.feature import Imputer\n",
    "cols_with_nulls = ['Albumin','BloodPressure','Sugar','Age','SpecificGravity',\n",
    "                   'BloodGlucoseRandom','BloodUrea','SerumCreatinine','Sodium',\n",
    "                   'Potassium','Hemoglobin','PackedCellVolume','WhiteBloodCellCount','RedBloodCellCount']\n",
    "imputer = Imputer(inputCols=cols_with_nulls, outputCols=cols_with_nulls)\n",
    "imputed_df = imputer.fit(dataset).transform(dataset)"
   ]
  },
  {
   "cell_type": "code",
   "execution_count": 17,
   "metadata": {
    "colab": {
     "base_uri": "https://localhost:8080/"
    },
    "id": "6kuO9GfCAl3J",
    "outputId": "59dab641-1116-4cdb-bc12-a226beab0b02"
   },
   "outputs": [
    {
     "name": "stdout",
     "output_type": "stream",
     "text": [
      "+---+----+-------------+---------------+-------+-----+-------------+--------+-------------+----------+------------------+---------+---------------+---------+---------+----------+----------------+-------------------+-----------------+------------+----------------+---------------------+--------+----------+------+--------------+\n",
      "| id| Age|BloodPressure|SpecificGravity|Albumin|Sugar|RedBloodCells| PusCell|PusCellClumps|  Bacteria|BloodGlucoseRandom|BloodUrea|SerumCreatinine|   Sodium|Potassium|Hemoglobin|PackedCellVolume|WhiteBloodCellCount|RedBloodCellCount|Hypertension|DiabetesMellitus|CoronaryArteryDisease|Appetite|PedalEdema|Anemia|Classification|\n",
      "+---+----+-------------+---------------+-------+-----+-------------+--------+-------------+----------+------------------+---------+---------------+---------+---------+----------+----------------+-------------------+-----------------+------------+----------------+---------------------+--------+----------+------+--------------+\n",
      "|  0|48.0|         80.0|           1.02|    1.0|  0.0|         NULL|  normal|   notpresent|notpresent|             121.0|     36.0|            1.2|137.52875|4.6272435|      15.4|            44.0|             7800.0|              5.2|         yes|             yes|                   no|    good|        no|    no|           ckd|\n",
      "|  1| 7.0|         50.0|           1.02|    4.0|  0.0|         NULL|  normal|   notpresent|notpresent|         148.03651|     18.0|            0.8|137.52875|4.6272435|      11.3|            38.0|             6000.0|         4.707435|          no|              no|                   no|    good|        no|    no|           ckd|\n",
      "|  2|62.0|         80.0|           1.01|    2.0|  3.0|       normal|  normal|   notpresent|notpresent|             423.0|     53.0|            1.8|137.52875|4.6272435|       9.6|            31.0|             7500.0|         4.707435|          no|             yes|                   no|    poor|        no|   yes|           ckd|\n",
      "|  3|48.0|         70.0|          1.005|    4.0|  0.0|       normal|abnormal|      present|notpresent|             117.0|     56.0|            3.8|    111.0|      2.5|      11.2|            32.0|             6700.0|              3.9|         yes|              no|                   no|    poor|       yes|   yes|           ckd|\n",
      "|  4|51.0|         80.0|           1.01|    2.0|  0.0|       normal|  normal|   notpresent|notpresent|             106.0|     26.0|            1.4|137.52875|4.6272435|      11.6|            35.0|             7300.0|              4.6|          no|              no|                   no|    good|        no|    no|           ckd|\n",
      "+---+----+-------------+---------------+-------+-----+-------------+--------+-------------+----------+------------------+---------+---------------+---------+---------+----------+----------------+-------------------+-----------------+------------+----------------+---------------------+--------+----------+------+--------------+\n",
      "only showing top 5 rows\n",
      "\n"
     ]
    }
   ],
   "source": [
    "imputed_df.show(5)"
   ]
  },
  {
   "cell_type": "code",
   "execution_count": 18,
   "metadata": {
    "id": "MTGA3fADAkrF"
   },
   "outputs": [],
   "source": [
    "#dropping rows with  NULL values [taken columns which had 1/2 NULL values]\n",
    "imputed_df = imputed_df.dropna(subset=['Hypertension','DiabetesMellitus','CoronaryArteryDisease','Appetite','PedalEdema','Anemia','PusCellClumps','Bacteria'])"
   ]
  },
  {
   "cell_type": "code",
   "execution_count": 19,
   "metadata": {
    "id": "kFUklnYAGKud"
   },
   "outputs": [],
   "source": [
    "#removing columns with huge NULL values\n",
    "imputed_df = imputed_df.drop('RedBloodCells','PusCell')\n"
   ]
  },
  {
   "cell_type": "code",
   "execution_count": 20,
   "metadata": {
    "colab": {
     "base_uri": "https://localhost:8080/"
    },
    "id": "Majuw9EK_jAD",
    "outputId": "c1828785-84e4-45d1-ed31-3ac00826c277"
   },
   "outputs": [
    {
     "name": "stdout",
     "output_type": "stream",
     "text": [
      "Number of rows: \t 393\n",
      "Number of columns: \t 24\n"
     ]
    }
   ],
   "source": [
    "#Printing total number of rows and columns in the dataset\n",
    "print('Number of rows: \\t', imputed_df.count())\n",
    "\n",
    "\n",
    "print('Number of columns: \\t', len(imputed_df.columns))"
   ]
  },
  {
   "cell_type": "code",
   "execution_count": 21,
   "metadata": {
    "id": "m4g9E077OS30"
   },
   "outputs": [],
   "source": [
    "#ENCODING OF CATEGORICAL COLUMNS\n",
    "\n",
    "# Define a list of categorical columns\n",
    "categorical_cols = ['PusCellClumps','Bacteria','Hypertension','DiabetesMellitus',\n",
    "                    'CoronaryArteryDisease','Appetite','PedalEdema','Anemia','Classification']\n",
    "\n",
    "# Create a list of StringIndexers for columns\n",
    "indexers = [StringIndexer(inputCol=col, outputCol=col + \"_encoded\") for col in categorical_cols]\n",
    "\n",
    "#  fits the StringIndexer to the data in the specified input column and then transform the data in the\n",
    "#input column into encoded values. It will work in a loop.\n",
    "for indexer in indexers:\n",
    "    imputed_df = indexer.fit(imputed_df).transform(imputed_df)\n"
   ]
  },
  {
   "cell_type": "code",
   "execution_count": 22,
   "metadata": {
    "colab": {
     "base_uri": "https://localhost:8080/"
    },
    "id": "8dGmlm4SReJV",
    "outputId": "d74b1f0e-ee6f-492c-eec1-7187a0d6b4dd"
   },
   "outputs": [
    {
     "name": "stdout",
     "output_type": "stream",
     "text": [
      "+---+----+-------------+---------------+-------+-----+-------------+----------+------------------+---------+---------------+---------+---------+----------+----------------+-------------------+-----------------+------------+----------------+---------------------+--------+----------+------+--------------+---------------------+----------------+--------------------+------------------------+-----------------------------+----------------+------------------+--------------+----------------------+\n",
      "| id| Age|BloodPressure|SpecificGravity|Albumin|Sugar|PusCellClumps|  Bacteria|BloodGlucoseRandom|BloodUrea|SerumCreatinine|   Sodium|Potassium|Hemoglobin|PackedCellVolume|WhiteBloodCellCount|RedBloodCellCount|Hypertension|DiabetesMellitus|CoronaryArteryDisease|Appetite|PedalEdema|Anemia|Classification|PusCellClumps_encoded|Bacteria_encoded|Hypertension_encoded|DiabetesMellitus_encoded|CoronaryArteryDisease_encoded|Appetite_encoded|PedalEdema_encoded|Anemia_encoded|Classification_encoded|\n",
      "+---+----+-------------+---------------+-------+-----+-------------+----------+------------------+---------+---------------+---------+---------+----------+----------------+-------------------+-----------------+------------+----------------+---------------------+--------+----------+------+--------------+---------------------+----------------+--------------------+------------------------+-----------------------------+----------------+------------------+--------------+----------------------+\n",
      "|  0|48.0|         80.0|           1.02|    1.0|  0.0|   notpresent|notpresent|             121.0|     36.0|            1.2|137.52875|4.6272435|      15.4|            44.0|             7800.0|              5.2|         yes|             yes|                   no|    good|        no|    no|           ckd|                  0.0|             0.0|                 1.0|                     1.0|                          0.0|             0.0|               0.0|           0.0|                   0.0|\n",
      "|  1| 7.0|         50.0|           1.02|    4.0|  0.0|   notpresent|notpresent|         148.03651|     18.0|            0.8|137.52875|4.6272435|      11.3|            38.0|             6000.0|         4.707435|          no|              no|                   no|    good|        no|    no|           ckd|                  0.0|             0.0|                 0.0|                     0.0|                          0.0|             0.0|               0.0|           0.0|                   0.0|\n",
      "|  2|62.0|         80.0|           1.01|    2.0|  3.0|   notpresent|notpresent|             423.0|     53.0|            1.8|137.52875|4.6272435|       9.6|            31.0|             7500.0|         4.707435|          no|             yes|                   no|    poor|        no|   yes|           ckd|                  0.0|             0.0|                 0.0|                     1.0|                          0.0|             1.0|               0.0|           1.0|                   0.0|\n",
      "|  3|48.0|         70.0|          1.005|    4.0|  0.0|      present|notpresent|             117.0|     56.0|            3.8|    111.0|      2.5|      11.2|            32.0|             6700.0|              3.9|         yes|              no|                   no|    poor|       yes|   yes|           ckd|                  1.0|             0.0|                 1.0|                     0.0|                          0.0|             1.0|               1.0|           1.0|                   0.0|\n",
      "+---+----+-------------+---------------+-------+-----+-------------+----------+------------------+---------+---------------+---------+---------+----------+----------------+-------------------+-----------------+------------+----------------+---------------------+--------+----------+------+--------------+---------------------+----------------+--------------------+------------------------+-----------------------------+----------------+------------------+--------------+----------------------+\n",
      "only showing top 4 rows\n",
      "\n"
     ]
    }
   ],
   "source": [
    "imputed_df.show(4)"
   ]
  },
  {
   "cell_type": "code",
   "execution_count": 23,
   "metadata": {
    "colab": {
     "base_uri": "https://localhost:8080/"
    },
    "id": "AsEVoC3CSx0w",
    "outputId": "b6ac4727-6304-4526-82c6-a3a1bdb3ac78"
   },
   "outputs": [
    {
     "name": "stdout",
     "output_type": "stream",
     "text": [
      "+----+-------------+---------------+-------+-----+------------------+---------+---------------+---------+---------+----------+----------------+-------------------+-----------------+--------------------+------------------------+-----------------------------+----------------+------------------+--------------+----------------------+\n",
      "| Age|BloodPressure|SpecificGravity|Albumin|Sugar|BloodGlucoseRandom|BloodUrea|SerumCreatinine|   Sodium|Potassium|Hemoglobin|PackedCellVolume|WhiteBloodCellCount|RedBloodCellCount|Hypertension_encoded|DiabetesMellitus_encoded|CoronaryArteryDisease_encoded|Appetite_encoded|PedalEdema_encoded|Anemia_encoded|Classification_encoded|\n",
      "+----+-------------+---------------+-------+-----+------------------+---------+---------------+---------+---------+----------+----------------+-------------------+-----------------+--------------------+------------------------+-----------------------------+----------------+------------------+--------------+----------------------+\n",
      "|48.0|         80.0|           1.02|    1.0|  0.0|             121.0|     36.0|            1.2|137.52875|4.6272435|      15.4|            44.0|             7800.0|              5.2|                 1.0|                     1.0|                          0.0|             0.0|               0.0|           0.0|                   0.0|\n",
      "| 7.0|         50.0|           1.02|    4.0|  0.0|         148.03651|     18.0|            0.8|137.52875|4.6272435|      11.3|            38.0|             6000.0|         4.707435|                 0.0|                     0.0|                          0.0|             0.0|               0.0|           0.0|                   0.0|\n",
      "|62.0|         80.0|           1.01|    2.0|  3.0|             423.0|     53.0|            1.8|137.52875|4.6272435|       9.6|            31.0|             7500.0|         4.707435|                 0.0|                     1.0|                          0.0|             1.0|               0.0|           1.0|                   0.0|\n",
      "+----+-------------+---------------+-------+-----+------------------+---------+---------------+---------+---------+----------+----------------+-------------------+-----------------+--------------------+------------------------+-----------------------------+----------------+------------------+--------------+----------------------+\n",
      "only showing top 3 rows\n",
      "\n"
     ]
    }
   ],
   "source": [
    "Kidney = imputed_df['Age', 'BloodPressure', 'SpecificGravity', 'Albumin', 'Sugar', 'BloodGlucoseRandom', 'BloodUrea',\n",
    "       'SerumCreatinine', 'Sodium', 'Potassium', 'Hemoglobin',\n",
    "       'PackedCellVolume', 'WhiteBloodCellCount', 'RedBloodCellCount','Hypertension_encoded', 'DiabetesMellitus_encoded',\n",
    "       'CoronaryArteryDisease_encoded', 'Appetite_encoded',\n",
    "       'PedalEdema_encoded', 'Anemia_encoded','Classification_encoded']\n",
    "Kidney.show(3)"
   ]
  },
  {
   "cell_type": "markdown",
   "metadata": {},
   "source": [
    "# VISUALIZATION"
   ]
  },
  {
   "cell_type": "code",
   "execution_count": 24,
   "metadata": {
    "id": "36I6zz-WLGVU"
   },
   "outputs": [],
   "source": [
    "\n",
    "#Using matplotlib and seaborm libraries of python for visualization"
   ]
  },
  {
   "cell_type": "code",
   "execution_count": 34,
   "metadata": {
    "id": "6wpk3pQoMHMA"
   },
   "outputs": [],
   "source": [
    "import seaborn as sns\n",
    "import matplotlib.pyplot as plt"
   ]
  },
  {
   "cell_type": "code",
   "execution_count": 35,
   "metadata": {
    "colab": {
     "base_uri": "https://localhost:8080/",
     "height": 256
    },
    "id": "AXguVu6oMU6C",
    "outputId": "cf4dd406-09cc-4902-fc07-2c8798625850"
   },
   "outputs": [
    {
     "data": {
      "text/html": [
       "<div>\n",
       "<style scoped>\n",
       "    .dataframe tbody tr th:only-of-type {\n",
       "        vertical-align: middle;\n",
       "    }\n",
       "\n",
       "    .dataframe tbody tr th {\n",
       "        vertical-align: top;\n",
       "    }\n",
       "\n",
       "    .dataframe thead th {\n",
       "        text-align: right;\n",
       "    }\n",
       "</style>\n",
       "<table border=\"1\" class=\"dataframe\">\n",
       "  <thead>\n",
       "    <tr style=\"text-align: right;\">\n",
       "      <th></th>\n",
       "      <th>id</th>\n",
       "      <th>Age</th>\n",
       "      <th>BloodPressure</th>\n",
       "      <th>SpecificGravity</th>\n",
       "      <th>Albumin</th>\n",
       "      <th>Sugar</th>\n",
       "      <th>PusCellClumps</th>\n",
       "      <th>Bacteria</th>\n",
       "      <th>BloodGlucoseRandom</th>\n",
       "      <th>BloodUrea</th>\n",
       "      <th>...</th>\n",
       "      <th>Classification</th>\n",
       "      <th>PusCellClumps_encoded</th>\n",
       "      <th>Bacteria_encoded</th>\n",
       "      <th>Hypertension_encoded</th>\n",
       "      <th>DiabetesMellitus_encoded</th>\n",
       "      <th>CoronaryArteryDisease_encoded</th>\n",
       "      <th>Appetite_encoded</th>\n",
       "      <th>PedalEdema_encoded</th>\n",
       "      <th>Anemia_encoded</th>\n",
       "      <th>Classification_encoded</th>\n",
       "    </tr>\n",
       "  </thead>\n",
       "  <tbody>\n",
       "    <tr>\n",
       "      <th>0</th>\n",
       "      <td>0</td>\n",
       "      <td>48.0</td>\n",
       "      <td>80.0</td>\n",
       "      <td>1.020</td>\n",
       "      <td>1.0</td>\n",
       "      <td>0.0</td>\n",
       "      <td>notpresent</td>\n",
       "      <td>notpresent</td>\n",
       "      <td>121.000000</td>\n",
       "      <td>36.0</td>\n",
       "      <td>...</td>\n",
       "      <td>ckd</td>\n",
       "      <td>0.0</td>\n",
       "      <td>0.0</td>\n",
       "      <td>1.0</td>\n",
       "      <td>1.0</td>\n",
       "      <td>0.0</td>\n",
       "      <td>0.0</td>\n",
       "      <td>0.0</td>\n",
       "      <td>0.0</td>\n",
       "      <td>0.0</td>\n",
       "    </tr>\n",
       "    <tr>\n",
       "      <th>1</th>\n",
       "      <td>1</td>\n",
       "      <td>7.0</td>\n",
       "      <td>50.0</td>\n",
       "      <td>1.020</td>\n",
       "      <td>4.0</td>\n",
       "      <td>0.0</td>\n",
       "      <td>notpresent</td>\n",
       "      <td>notpresent</td>\n",
       "      <td>148.036514</td>\n",
       "      <td>18.0</td>\n",
       "      <td>...</td>\n",
       "      <td>ckd</td>\n",
       "      <td>0.0</td>\n",
       "      <td>0.0</td>\n",
       "      <td>0.0</td>\n",
       "      <td>0.0</td>\n",
       "      <td>0.0</td>\n",
       "      <td>0.0</td>\n",
       "      <td>0.0</td>\n",
       "      <td>0.0</td>\n",
       "      <td>0.0</td>\n",
       "    </tr>\n",
       "    <tr>\n",
       "      <th>2</th>\n",
       "      <td>2</td>\n",
       "      <td>62.0</td>\n",
       "      <td>80.0</td>\n",
       "      <td>1.010</td>\n",
       "      <td>2.0</td>\n",
       "      <td>3.0</td>\n",
       "      <td>notpresent</td>\n",
       "      <td>notpresent</td>\n",
       "      <td>423.000000</td>\n",
       "      <td>53.0</td>\n",
       "      <td>...</td>\n",
       "      <td>ckd</td>\n",
       "      <td>0.0</td>\n",
       "      <td>0.0</td>\n",
       "      <td>0.0</td>\n",
       "      <td>1.0</td>\n",
       "      <td>0.0</td>\n",
       "      <td>1.0</td>\n",
       "      <td>0.0</td>\n",
       "      <td>1.0</td>\n",
       "      <td>0.0</td>\n",
       "    </tr>\n",
       "    <tr>\n",
       "      <th>3</th>\n",
       "      <td>3</td>\n",
       "      <td>48.0</td>\n",
       "      <td>70.0</td>\n",
       "      <td>1.005</td>\n",
       "      <td>4.0</td>\n",
       "      <td>0.0</td>\n",
       "      <td>present</td>\n",
       "      <td>notpresent</td>\n",
       "      <td>117.000000</td>\n",
       "      <td>56.0</td>\n",
       "      <td>...</td>\n",
       "      <td>ckd</td>\n",
       "      <td>1.0</td>\n",
       "      <td>0.0</td>\n",
       "      <td>1.0</td>\n",
       "      <td>0.0</td>\n",
       "      <td>0.0</td>\n",
       "      <td>1.0</td>\n",
       "      <td>1.0</td>\n",
       "      <td>1.0</td>\n",
       "      <td>0.0</td>\n",
       "    </tr>\n",
       "    <tr>\n",
       "      <th>4</th>\n",
       "      <td>4</td>\n",
       "      <td>51.0</td>\n",
       "      <td>80.0</td>\n",
       "      <td>1.010</td>\n",
       "      <td>2.0</td>\n",
       "      <td>0.0</td>\n",
       "      <td>notpresent</td>\n",
       "      <td>notpresent</td>\n",
       "      <td>106.000000</td>\n",
       "      <td>26.0</td>\n",
       "      <td>...</td>\n",
       "      <td>ckd</td>\n",
       "      <td>0.0</td>\n",
       "      <td>0.0</td>\n",
       "      <td>0.0</td>\n",
       "      <td>0.0</td>\n",
       "      <td>0.0</td>\n",
       "      <td>0.0</td>\n",
       "      <td>0.0</td>\n",
       "      <td>0.0</td>\n",
       "      <td>0.0</td>\n",
       "    </tr>\n",
       "  </tbody>\n",
       "</table>\n",
       "<p>5 rows × 33 columns</p>\n",
       "</div>"
      ],
      "text/plain": [
       "  id   Age  BloodPressure  SpecificGravity  Albumin  Sugar PusCellClumps  \\\n",
       "0  0  48.0           80.0            1.020      1.0    0.0    notpresent   \n",
       "1  1   7.0           50.0            1.020      4.0    0.0    notpresent   \n",
       "2  2  62.0           80.0            1.010      2.0    3.0    notpresent   \n",
       "3  3  48.0           70.0            1.005      4.0    0.0       present   \n",
       "4  4  51.0           80.0            1.010      2.0    0.0    notpresent   \n",
       "\n",
       "     Bacteria  BloodGlucoseRandom  BloodUrea  ...  Classification  \\\n",
       "0  notpresent          121.000000       36.0  ...             ckd   \n",
       "1  notpresent          148.036514       18.0  ...             ckd   \n",
       "2  notpresent          423.000000       53.0  ...             ckd   \n",
       "3  notpresent          117.000000       56.0  ...             ckd   \n",
       "4  notpresent          106.000000       26.0  ...             ckd   \n",
       "\n",
       "   PusCellClumps_encoded  Bacteria_encoded  Hypertension_encoded  \\\n",
       "0                    0.0               0.0                   1.0   \n",
       "1                    0.0               0.0                   0.0   \n",
       "2                    0.0               0.0                   0.0   \n",
       "3                    1.0               0.0                   1.0   \n",
       "4                    0.0               0.0                   0.0   \n",
       "\n",
       "   DiabetesMellitus_encoded  CoronaryArteryDisease_encoded  Appetite_encoded  \\\n",
       "0                       1.0                            0.0               0.0   \n",
       "1                       0.0                            0.0               0.0   \n",
       "2                       1.0                            0.0               1.0   \n",
       "3                       0.0                            0.0               1.0   \n",
       "4                       0.0                            0.0               0.0   \n",
       "\n",
       "  PedalEdema_encoded Anemia_encoded Classification_encoded  \n",
       "0                0.0            0.0                    0.0  \n",
       "1                0.0            0.0                    0.0  \n",
       "2                0.0            1.0                    0.0  \n",
       "3                1.0            1.0                    0.0  \n",
       "4                0.0            0.0                    0.0  \n",
       "\n",
       "[5 rows x 33 columns]"
      ]
     },
     "execution_count": 35,
     "metadata": {},
     "output_type": "execute_result"
    }
   ],
   "source": [
    "dataframe = imputed_df.toPandas()\n",
    "dataframe.head()"
   ]
  },
  {
   "cell_type": "code",
   "execution_count": 36,
   "metadata": {
    "colab": {
     "base_uri": "https://localhost:8080/",
     "height": 507
    },
    "id": "07qymNV7LGR4",
    "outputId": "0cffa2c4-e113-4667-aa93-714d1026f578"
   },
   "outputs": [
    {
     "data": {
      "image/png": "[encoded data removed]",
      "text/plain": [
       "<Figure size 640x480 with 1 Axes>"
      ]
     },
     "metadata": {},
     "output_type": "display_data"
    },
    {
     "name": "stdout",
     "output_type": "stream",
     "text": [
      "Percent of chronic kidney disease sample:  63.61 %\n",
      "Percent of not a chronic kidney disease sample:  36.39 %\n"
     ]
    }
   ],
   "source": [
    "#showing the distribution of chronic and non chronic Kidney disease classification in the dataset and their percentage\n",
    "sns.countplot(x='Classification_encoded',data=dataframe)\n",
    "plt.xlabel(\"classification\")\n",
    "plt.ylabel(\"Count\")\n",
    "plt.title(\"target Class\")\n",
    "plt.show()\n",
    "print('Percent of chronic kidney disease sample: ',round(len(dataframe[dataframe['Classification_encoded']==0])/len(dataframe['Classification_encoded'])*100,2),\"%\")\n",
    "print('Percent of not a chronic kidney disease sample: ',round(len(dataframe[dataframe['Classification_encoded']==1])/len(dataframe['Classification_encoded'])*100,2),\"%\")"
   ]
  },
  {
   "cell_type": "code",
   "execution_count": 40,
   "metadata": {},
   "outputs": [
    {
     "data": {
      "text/plain": [
       "Classification\n",
       "ckd    250\n",
       "Name: count, dtype: int64"
      ]
     },
     "execution_count": 40,
     "metadata": {},
     "output_type": "execute_result"
    }
   ],
   "source": [
    "# Filter rows that have Chronic Kidney Disease\n",
    "ckd_data = dataframe[dataframe['Classification'] == 'ckd']\n",
    "ckd_data.Classification.value_counts()\n"
   ]
  },
  {
   "cell_type": "code",
   "execution_count": 41,
   "metadata": {},
   "outputs": [
    {
     "data": {
      "image/png": "[encoded data removed]",
      "text/plain": [
       "<Figure size 900x300 with 1 Axes>"
      ]
     },
     "metadata": {},
     "output_type": "display_data"
    }
   ],
   "source": [
    "#Histogram of Age VS number of people with ckd \n",
    "\n",
    "def hist_plot(variable):\n",
    "    plt.figure(figsize=(9,3))\n",
    "    plt.hist(ckd_data[variable],bins=50)\n",
    "    plt.xlabel(variable)\n",
    "    plt.ylabel(\"Frequency\")\n",
    "    plt.xticks([0,5,10,15,20,25,30,35,40,45,50,55,60,65,70,75,80,85,90])\n",
    "    plt.title(\"Age Distribution with Histogram Of CKD\")\n",
    "    plt.show()\n",
    "numericVar = [\"Age\"]\n",
    "for n in numericVar:\n",
    "    hist_plot(n)"
   ]
  },
  {
   "cell_type": "markdown",
   "metadata": {},
   "source": [
    "From the from the above graph we can see that the Chronic Kidney disease is highly affected to those who are betweenage of  45 and 70"
   ]
  },
  {
   "cell_type": "code",
   "execution_count": 37,
   "metadata": {
    "id": "nf-qNv5d0elX"
   },
   "outputs": [],
   "source": [
    "# Define features and target columno\n",
    "#Selecting features column from first to second last\n",
    "features = Kidney.columns[:-1]\n",
    "\n",
    "#Taking last column as output column\n",
    "output = Kidney.columns[-1]\n",
    "\n",
    "# Rename the output column to a valid name\n",
    "output_renamed = \"class\"\n",
    "\n",
    "# Assemble the feature columns into a single vector column\n",
    "assembler = VectorAssembler(inputCols=features, outputCol=output_renamed)\n",
    "final_dataset = assembler.transform(Kidney)"
   ]
  },
  {
   "cell_type": "code",
   "execution_count": 38,
   "metadata": {
    "colab": {
     "base_uri": "https://localhost:8080/"
    },
    "id": "fndZIg501oJ3",
    "outputId": "aa80f98a-88dd-47be-bf53-420b6f1306f1"
   },
   "outputs": [
    {
     "name": "stdout",
     "output_type": "stream",
     "text": [
      "+----+-------------+---------------+---------+----------+------------------+---------+---------------+---------+---------+----------+----------------+-------------------+-----------------+--------------------+------------------------+-----------------------------+----------------+------------------+--------------+----------------------+--------------------+\n",
      "| Age|BloodPressure|SpecificGravity|  Albumin|     Sugar|BloodGlucoseRandom|BloodUrea|SerumCreatinine|   Sodium|Potassium|Hemoglobin|PackedCellVolume|WhiteBloodCellCount|RedBloodCellCount|Hypertension_encoded|DiabetesMellitus_encoded|CoronaryArteryDisease_encoded|Appetite_encoded|PedalEdema_encoded|Anemia_encoded|Classification_encoded|               class|\n",
      "+----+-------------+---------------+---------+----------+------------------+---------+---------------+---------+---------+----------+----------------+-------------------+-----------------+--------------------+------------------------+-----------------------------+----------------+------------------+--------------+----------------------+--------------------+\n",
      "|48.0|         80.0|           1.02|      1.0|       0.0|             121.0|     36.0|            1.2|137.52875|4.6272435|      15.4|            44.0|             7800.0|              5.2|                 1.0|                     1.0|                          0.0|             0.0|               0.0|           0.0|                   0.0|[48.0,80.0,1.0199...|\n",
      "| 7.0|         50.0|           1.02|      4.0|       0.0|         148.03651|     18.0|            0.8|137.52875|4.6272435|      11.3|            38.0|             6000.0|         4.707435|                 0.0|                     0.0|                          0.0|             0.0|               0.0|           0.0|                   0.0|[7.0,50.0,1.01999...|\n",
      "|62.0|         80.0|           1.01|      2.0|       3.0|             423.0|     53.0|            1.8|137.52875|4.6272435|       9.6|            31.0|             7500.0|         4.707435|                 0.0|                     1.0|                          0.0|             1.0|               0.0|           1.0|                   0.0|[62.0,80.0,1.0099...|\n",
      "|48.0|         70.0|          1.005|      4.0|       0.0|             117.0|     56.0|            3.8|    111.0|      2.5|      11.2|            32.0|             6700.0|              3.9|                 1.0|                     0.0|                          0.0|             1.0|               1.0|           1.0|                   0.0|[48.0,70.0,1.0049...|\n",
      "|51.0|         80.0|           1.01|      2.0|       0.0|             106.0|     26.0|            1.4|137.52875|4.6272435|      11.6|            35.0|             7300.0|              4.6|                 0.0|                     0.0|                          0.0|             0.0|               0.0|           0.0|                   0.0|[51.0,80.0,1.0099...|\n",
      "|60.0|         90.0|          1.015|      3.0|       0.0|              74.0|     25.0|            1.1|    142.0|      3.2|      12.2|            39.0|             7800.0|              4.4|                 1.0|                     1.0|                          0.0|             0.0|               1.0|           0.0|                   0.0|[60.0,90.0,1.0149...|\n",
      "|68.0|         70.0|           1.01|      0.0|       0.0|             100.0|     54.0|           24.0|    104.0|      4.0|      12.4|            36.0|           8406.122|         4.707435|                 0.0|                     0.0|                          0.0|             0.0|               0.0|           0.0|                   0.0|(20,[0,1,2,5,6,7,...|\n",
      "|24.0|     76.46907|          1.015|      2.0|       4.0|             410.0|     31.0|            1.1|137.52875|4.6272435|      12.4|            44.0|             6900.0|              5.0|                 0.0|                     1.0|                          0.0|             0.0|               1.0|           0.0|                   0.0|[24.0,76.46907043...|\n",
      "|52.0|        100.0|          1.015|      3.0|       0.0|             138.0|     60.0|            1.9|137.52875|4.6272435|      10.8|            33.0|             9600.0|              4.0|                 1.0|                     1.0|                          0.0|             0.0|               0.0|           1.0|                   0.0|[52.0,100.0,1.014...|\n",
      "|53.0|         90.0|           1.02|      2.0|       0.0|              70.0|    107.0|            7.2|    114.0|      3.7|       9.5|            29.0|            12100.0|              3.7|                 1.0|                     1.0|                          0.0|             1.0|               0.0|           1.0|                   0.0|[53.0,90.0,1.0199...|\n",
      "|50.0|         60.0|           1.01|      2.0|       4.0|             490.0|     55.0|            4.0|137.52875|4.6272435|       9.4|            28.0|           8406.122|         4.707435|                 1.0|                     1.0|                          0.0|             0.0|               0.0|           1.0|                   0.0|[50.0,60.0,1.0099...|\n",
      "|63.0|         70.0|           1.01|      3.0|       0.0|             380.0|     60.0|            2.7|    131.0|      4.2|      10.8|            32.0|             4500.0|              3.8|                 1.0|                     1.0|                          0.0|             1.0|               1.0|           0.0|                   0.0|[63.0,70.0,1.0099...|\n",
      "|68.0|         70.0|          1.015|      3.0|       1.0|             208.0|     72.0|            2.1|    138.0|      5.8|       9.7|            28.0|            12200.0|              3.4|                 1.0|                     1.0|                          1.0|             1.0|               1.0|           0.0|                   0.0|[68.0,70.0,1.0149...|\n",
      "|68.0|         70.0|      1.0174079|1.0169492|0.45014244|              98.0|     86.0|            4.6|    135.0|      3.4|       9.8|         38.8845|           8406.122|         4.707435|                 1.0|                     1.0|                          1.0|             1.0|               1.0|           0.0|                   0.0|[68.0,70.0,1.0174...|\n",
      "|68.0|         80.0|           1.01|      3.0|       2.0|             157.0|     90.0|            4.1|    130.0|      6.4|       5.6|            16.0|            11000.0|              2.6|                 1.0|                     1.0|                          1.0|             1.0|               1.0|           0.0|                   0.0|[68.0,80.0,1.0099...|\n",
      "|40.0|         80.0|          1.015|      3.0|       0.0|              76.0|    162.0|            9.6|    141.0|      4.9|       7.6|            24.0|             3800.0|              2.8|                 1.0|                     0.0|                          0.0|             0.0|               0.0|           1.0|                   0.0|[40.0,80.0,1.0149...|\n",
      "|47.0|         70.0|          1.015|      2.0|       0.0|              99.0|     46.0|            2.2|    138.0|      4.1|      12.6|         38.8845|           8406.122|         4.707435|                 0.0|                     0.0|                          0.0|             0.0|               0.0|           0.0|                   0.0|[47.0,70.0,1.0149...|\n",
      "|47.0|         80.0|      1.0174079|1.0169492|0.45014244|             114.0|     87.0|            5.2|    139.0|      3.7|      12.1|         38.8845|           8406.122|         4.707435|                 1.0|                     0.0|                          0.0|             1.0|               0.0|           0.0|                   0.0|[47.0,80.0,1.0174...|\n",
      "|60.0|        100.0|          1.025|      0.0|       3.0|             263.0|     27.0|            1.3|    135.0|      4.3|      12.7|            37.0|            11400.0|              4.3|                 1.0|                     1.0|                          1.0|             0.0|               0.0|           0.0|                   0.0|[60.0,100.0,1.024...|\n",
      "|62.0|         60.0|          1.015|      1.0|       0.0|             100.0|     31.0|            1.6|137.52875|4.6272435|      10.3|            30.0|             5300.0|              3.7|                 1.0|                     0.0|                          1.0|             0.0|               0.0|           0.0|                   0.0|[62.0,60.0,1.0149...|\n",
      "+----+-------------+---------------+---------+----------+------------------+---------+---------------+---------+---------+----------+----------------+-------------------+-----------------+--------------------+------------------------+-----------------------------+----------------+------------------+--------------+----------------------+--------------------+\n",
      "only showing top 20 rows\n",
      "\n"
     ]
    }
   ],
   "source": [
    "final_dataset.show()"
   ]
  },
  {
   "cell_type": "markdown",
   "metadata": {
    "id": "3bgfx2mbBAG_"
   },
   "source": [
    "# MODEL BUILDING"
   ]
  },
  {
   "cell_type": "code",
   "execution_count": 30,
   "metadata": {
    "id": "TWo8zLeU3buJ"
   },
   "outputs": [],
   "source": [
    "# Here we are splitting the data as 80% training and 20% testing set\n",
    "train_data, test_data = final_dataset.randomSplit([0.8, 0.2], seed=42)"
   ]
  },
  {
   "cell_type": "markdown",
   "metadata": {
    "id": "CgEWUZbjDTO7"
   },
   "source": [
    " ## Decision Tree Classifier"
   ]
  },
  {
   "cell_type": "code",
   "execution_count": 31,
   "metadata": {
    "id": "AF_6-dRBZuJd"
   },
   "outputs": [],
   "source": [
    "# Initialize DecisionTreeClassifier\n",
    "dt_classifier = DecisionTreeClassifier(labelCol='Classification_encoded', featuresCol='class')"
   ]
  },
  {
   "cell_type": "markdown",
   "metadata": {},
   "source": [
    "# MODEL FITTING"
   ]
  },
  {
   "cell_type": "code",
   "execution_count": 32,
   "metadata": {
    "id": "Li0CVY5qZwK7"
   },
   "outputs": [],
   "source": [
    "# Fit the classifier on the training data\n",
    "dt_model = dt_classifier.fit(train_data)"
   ]
  },
  {
   "cell_type": "markdown",
   "metadata": {},
   "source": [
    "# EVALUATE THE MODEL"
   ]
  },
  {
   "cell_type": "code",
   "execution_count": 33,
   "metadata": {
    "id": "ZSpFCWEPbJlo"
   },
   "outputs": [
    {
     "name": "stdout",
     "output_type": "stream",
     "text": [
      "Accuracy (Test Data): 0.9473684210526315\n",
      "F1 Score (Test Data): 0.9470870627956459\n"
     ]
    }
   ],
   "source": [
    "# Make predictions on the test data\n",
    "predictions = dt_model.transform(test_data)\n",
    "\n",
    "# Evaluate the model\n",
    "evaluator1 = MulticlassClassificationEvaluator(labelCol=output, predictionCol=\"prediction\", metricName=\"accuracy\")\n",
    "accuracy_test = evaluator1.evaluate(predictions)\n",
    "\n",
    "evaluator2 = MulticlassClassificationEvaluator(labelCol=output, predictionCol=\"prediction\", metricName=\"f1\")\n",
    "f1score_test = evaluator2.evaluate(predictions)\n",
    "\n",
    "print(\"Accuracy (Test Data):\", accuracy_test)\n",
    "print(\"F1 Score (Test Data):\", f1score_test)"
   ]
  },
  {
   "cell_type": "code",
   "execution_count": 34,
   "metadata": {
    "id": "-oki-xJ6bOJf"
   },
   "outputs": [
    {
     "name": "stdout",
     "output_type": "stream",
     "text": [
      "Accuracy (Train Data): 0.9970238095238095\n",
      "F1 Score (Train Data): 0.9970211544285619\n"
     ]
    }
   ],
   "source": [
    "# Make predictions on the Train data\n",
    "predictions = dt_model.transform(train_data)\n",
    "\n",
    "# Evaluate the model\n",
    "evaluator3 = MulticlassClassificationEvaluator(labelCol=output, predictionCol=\"prediction\", metricName=\"accuracy\")\n",
    "accuracy_train = evaluator3.evaluate(predictions)\n",
    "\n",
    "\n",
    "evaluator4 = MulticlassClassificationEvaluator(labelCol=output, predictionCol=\"prediction\", metricName=\"f1\")\n",
    "f1score_train = evaluator4.evaluate(predictions)\n",
    "\n",
    "print(\"Accuracy (Train Data):\", accuracy_train)\n",
    "print(\"F1 Score (Train Data):\", f1score_train)"
   ]
  },
  {
   "cell_type": "code",
   "execution_count": 37,
   "metadata": {},
   "outputs": [
    {
     "data": {
      "text/plain": [
       "['Age',\n",
       " 'BloodPressure',\n",
       " 'SpecificGravity',\n",
       " 'Albumin',\n",
       " 'Sugar',\n",
       " 'BloodGlucoseRandom',\n",
       " 'BloodUrea',\n",
       " 'SerumCreatinine',\n",
       " 'Sodium',\n",
       " 'Potassium',\n",
       " 'Hemoglobin',\n",
       " 'PackedCellVolume',\n",
       " 'WhiteBloodCellCount',\n",
       " 'RedBloodCellCount',\n",
       " 'Hypertension_encoded',\n",
       " 'DiabetesMellitus_encoded',\n",
       " 'CoronaryArteryDisease_encoded',\n",
       " 'Appetite_encoded',\n",
       " 'PedalEdema_encoded',\n",
       " 'Anemia_encoded',\n",
       " 'Classification_encoded',\n",
       " 'class']"
      ]
     },
     "execution_count": 37,
     "metadata": {},
     "output_type": "execute_result"
    }
   ],
   "source": [
    "final_dataset.columns"
   ]
  },
  {
   "cell_type": "code",
   "execution_count": 35,
   "metadata": {},
   "outputs": [
    {
     "data": {
      "text/plain": [
       "SparseVector(20, {0: 0.0087, 2: 0.165, 5: 0.0228, 6: 0.0123, 10: 0.7339, 11: 0.0031, 13: 0.0161, 14: 0.0381})"
      ]
     },
     "execution_count": 35,
     "metadata": {},
     "output_type": "execute_result"
    }
   ],
   "source": [
    "dt_model.featureImportances"
   ]
  },
  {
   "cell_type": "markdown",
   "metadata": {},
   "source": [
    "dt_model.featureImportances: This attribute of the decision tree model dt_model contains information about the importance of each feature in the modedecision-making process.The indices correspond to the positions of the features in the dataset, and the values represent their respective importances. For example:\n",
    "\n",
    "Feature 0 has an importance of 0.0087.\n",
    "Feature 2 has an importance of 0.165.\n",
    "Feature 5 has an importance of 0.0228."
   ]
  },
  {
   "cell_type": "markdown",
   "metadata": {
    "id": "SzM_JPn7K3tp"
   },
   "source": [
    "SUMMARY"
   ]
  },
  {
   "cell_type": "markdown",
   "metadata": {},
   "source": [
    "The project involves preprocessing clinical data related to kidney disease, performing feature engineering, encoding \n",
    "categorical variables, visualizing the data distribution, and preparing the dataset for modeling. It aims to predict \n",
    "chronic kidney disease based on various clinical parameters.Overall, the values in the project emphasize the importance of data preprocessing, feature engineering, visualization for insights, and proper preparation of the dataset to build accurate predictive models for chronic kidney disease and ended up with getting 94.7% accuracy in Test set and 99.7 % accuracy in Training set."
   ]
  }
 ],
 "metadata": {
  "colab": {
   "provenance": []
  },
  "kernelspec": {
   "display_name": "Python 3 (ipykernel)",
   "language": "python",
   "name": "python3"
  },
  "language_info": {
   "codemirror_mode": {
    "name": "ipython",
    "version": 3
   },
   "file_extension": ".py",
   "mimetype": "text/x-python",
   "name": "python",
   "nbconvert_exporter": "python",
   "pygments_lexer": "ipython3",
   "version": "3.11.5"
  }
 },
 "nbformat": 4,
 "nbformat_minor": 1
}
